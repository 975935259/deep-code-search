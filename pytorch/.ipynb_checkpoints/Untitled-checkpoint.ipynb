{
 "cells": [
  {
   "cell_type": "code",
   "execution_count": 8,
   "metadata": {},
   "outputs": [
    {
     "name": "stdout",
     "output_type": "stream",
     "text": [
      "\n",
      "(0 ,.,.) = \n",
      "   6   2   3   2   5   6   7\n",
      "   3   2   3   4   5   6   7\n",
      "   1   2   3   4   5   0   7\n",
      "\n",
      "(1 ,.,.) = \n",
      "   1   2   3   4   5   8   7\n",
      "   1   2   5   4   5   6   7\n",
      "   1   7   3   4   5   6   7\n",
      "[torch.FloatTensor of size 2x3x7]\n",
      "\n",
      "\n",
      "(0 ,.,.) = \n",
      "   6   3   1\n",
      "   2   2   2\n",
      "   3   3   3\n",
      "   2   4   4\n",
      "   5   5   5\n",
      "   6   6   0\n",
      "   7   7   7\n",
      "\n",
      "(1 ,.,.) = \n",
      "   1   1   1\n",
      "   2   2   7\n",
      "   3   5   3\n",
      "   4   4   4\n",
      "   5   5   5\n",
      "   8   6   6\n",
      "   7   7   7\n",
      "[torch.FloatTensor of size 2x7x3]\n",
      "\n"
     ]
    }
   ],
   "source": [
    "import torch\n",
    "import torch.nn.functional as F\n",
    "\n",
    "input = torch.Tensor([[[6,2,3,2,5,6,7],[3,2,3,4,5,6,7],[1,2,3,4,5,0,7]],\n",
    "                      [[1,2,3,4,5,8,7],[1,2,5,4,5,6,7],[1,7,3,4,5,6,7]]])\n",
    "print (input)\n",
    "transpose = input.transpose(1,2)\n",
    "print(transpose)\n",
    "\n"
   ]
  },
  {
   "cell_type": "code",
   "execution_count": 9,
   "metadata": {},
   "outputs": [
    {
     "data": {
      "text/plain": [
       "Variable containing:\n",
       "(0 ,.,.) = \n",
       "   6\n",
       "   2\n",
       "   3\n",
       "   4\n",
       "   5\n",
       "   6\n",
       "   7\n",
       "\n",
       "(1 ,.,.) = \n",
       "   1\n",
       "   7\n",
       "   5\n",
       "   4\n",
       "   5\n",
       "   8\n",
       "   7\n",
       "[torch.FloatTensor of size 2x7x1]"
      ]
     },
     "execution_count": 9,
     "metadata": {},
     "output_type": "execute_result"
    }
   ],
   "source": [
    "F.max_pool1d(transpose, kernel_size=3, stride=3)"
   ]
  },
  {
   "cell_type": "code",
   "execution_count": null,
   "metadata": {},
   "outputs": [],
   "source": []
  }
 ],
 "metadata": {
  "kernelspec": {
   "display_name": "Python 3",
   "language": "python",
   "name": "python3"
  },
  "language_info": {
   "codemirror_mode": {
    "name": "ipython",
    "version": 3
   },
   "file_extension": ".py",
   "mimetype": "text/x-python",
   "name": "python",
   "nbconvert_exporter": "python",
   "pygments_lexer": "ipython3",
   "version": "3.6.4"
  }
 },
 "nbformat": 4,
 "nbformat_minor": 2
}
